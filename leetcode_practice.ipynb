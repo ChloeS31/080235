{
  "nbformat": 4,
  "nbformat_minor": 0,
  "metadata": {
    "colab": {
      "name": "leetcode_practice.ipynb",
      "provenance": [],
      "collapsed_sections": [],
      "authorship_tag": "ABX9TyM2eNYOsT6IUN3Aa9/TCif3",
      "include_colab_link": true
    },
    "kernelspec": {
      "name": "python3",
      "display_name": "Python 3"
    },
    "language_info": {
      "name": "python"
    }
  },
  "cells": [
    {
      "cell_type": "markdown",
      "metadata": {
        "id": "view-in-github",
        "colab_type": "text"
      },
      "source": [
        "<a href=\"https://colab.research.google.com/github/ChloeS31/080235/blob/master/leetcode_practice.ipynb\" target=\"_parent\"><img src=\"https://colab.research.google.com/assets/colab-badge.svg\" alt=\"Open In Colab\"/></a>"
      ]
    },
    {
      "cell_type": "markdown",
      "source": [
        "# 31. Next Permutation\n",
        "medium"
      ],
      "metadata": {
        "id": "PH4zRxGYQMKS"
      }
    },
    {
      "cell_type": "code",
      "execution_count": null,
      "metadata": {
        "id": "v0ChnK6_b555"
      },
      "outputs": [],
      "source": [
        "nums=[1, 3, 4, 2, 5]"
      ]
    },
    {
      "cell_type": "code",
      "source": [
        "class Solution:\n",
        "    def nextPermutation(self, nums): #: List[int]) -> None:\n",
        "        \"\"\"\n",
        "        Do not return anything, modify nums in-place instead.\n",
        "        \"\"\"\n",
        "\n",
        "\n",
        "        for i in range(len(nums)-1, -1, -1):\n",
        "            if nums[i-1] < nums[i]: ## i-1 : to be replaced\n",
        "                for j in range(len(nums)-1, -1, -1):\n",
        "                    if nums[j] > nums[i-1]:\n",
        "                        nums[i-1], nums[j] = nums[j], nums[i-1]\n",
        "                        to_reverse=nums[i:]\n",
        "                        to_reverse.reverse()\n",
        "                        nums[i:] = to_reverse\n",
        "                        break\n",
        "                break\n",
        "            if i == 1: nums.reverse()\n",
        "          \n",
        "        return  nums"
      ],
      "metadata": {
        "id": "Q4gIUP1ocDjB"
      },
      "execution_count": null,
      "outputs": []
    },
    {
      "cell_type": "code",
      "source": [
        "solu = Solution()\n",
        "solu.nextPermutation(nums)"
      ],
      "metadata": {
        "colab": {
          "base_uri": "https://localhost:8080/"
        },
        "id": "bOnS_y2KffMM",
        "outputId": "03d31500-19e5-436e-8705-879992dcd83a"
      },
      "execution_count": null,
      "outputs": [
        {
          "output_type": "execute_result",
          "data": {
            "text/plain": [
              "[1, 3, 4, 5, 2]"
            ]
          },
          "metadata": {},
          "execution_count": 3
        }
      ]
    },
    {
      "cell_type": "markdown",
      "source": [
        "# 121. Best Time to Buy and Sell Stock\n",
        "easy"
      ],
      "metadata": {
        "id": "PAj66acNP1il"
      }
    },
    {
      "cell_type": "code",
      "source": [
        "class Solution:\n",
        "    def maxProfit(self, prices: List[int]) -> int:\n",
        "        if len(prices)<=1: \n",
        "            return 0\n",
        "        \n",
        "        profit=0\n",
        "        daily_profit=0\n",
        "        for i in range(0, len(prices)-1):\n",
        "            \n",
        "            daily_profit = max(0, daily_profit+prices[i+1]-prices[i])\n",
        "            profit = max(profit, daily_profit)\n",
        "        return profit\n",
        "    \n",
        "    ## Dynamic programming"
      ],
      "metadata": {
        "id": "OBRg9Ladfigm"
      },
      "execution_count": null,
      "outputs": []
    }
  ]
}